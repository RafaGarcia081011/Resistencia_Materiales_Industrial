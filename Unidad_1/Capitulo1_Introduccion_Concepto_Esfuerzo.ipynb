{
 "cells": [
  {
   "cell_type": "markdown",
   "metadata": {},
   "source": [
    "# Mecánica de Materiales\n",
    "\n",
    "La **mecánica de materiales** es una rama de la mecánica que estudia las relaciones entre las cargas *externas* aplicadas a un cuerpo deformable y la intensidad de las fuerza *internas* que actúan dentro del cuerpo.\n",
    "\n",
    "En el diseño de cualquier estructura o máquina, es necesario primero, usar los principios de la estática para determinar las fuerzas que actúan sobre y dentro de las diversas estructuras. El tamaño de las estructras, sus deflexiones y su estabilidad dependen no sólo de las cargas internas, sino también del tipo de material de que están hechos.\n",
    "\n",
    "\n",
    "## Revisión de conceptos de Estática\n",
    "\n",
    "**Cargas externas:** Un cuerpo puede estar sometido a dos tipos de cargas externas, es decir, las fuerzas de superficie o las fuerzas de cuerpo. Como se muestra en la Figura 0.1.\n",
    "\n",
    "![](Figura0_Cargas_Externas.png)\n",
    "$$\\text{Figura 0.1 Cuerpo sometido a cargas externas.}$$\n",
    "\n",
    "**Fuerzas de superficie:** Las fuerzas de superficie son causadas por el contacto directo de un cuerpo con la superficie de otro. En todos los casos esas fuerzas están distribuidas sobre el área de contacto entre los cuerpos.\n",
    "\n",
    "**Fuerza normal, N:** Esta fuerza actúa perpendicularmente al área. Se desarrolla siempre que las cargas externas tienden a empujar o jalar sobre los dos segmentos del cuerpo.\n",
    "\n",
    "**Esfuerzo cortante, V:** El esfuerzo cortante se encuentra en el plano del área y se desarrolla cuando las cargas externas tienden a ocasionar que los dos segmentos del cuerpo se deslicen uno sobre el otro.\n",
    "\n",
    "**Momento de torsión o torque, T:** Este efecto se desarrolla cuando las cargas externas tienden a torcer un segmento del cuerpo con respecto al otro alrededor de un eje perpendicular al área.\n",
    "\n",
    "**Momento flexionante, M:** El momento flexionante es causado por las cargas externas que tienden a flexionar el cuerpo respecto a un eje que se encuentra dentro del plano del área.\n",
    "\n",
    "![](Figura0_Fuerzas_Externas.png)\n",
    "\n",
    "***Resumen***\n",
    "\n",
    "* Las fuerzas externas pueden aplicarse a un cuerpo como *cargas de superficie distribuidas o concentradas*, o bien como fuerzas de cuerpo que actúan a través del volumen del cuerpo.\n",
    "\n",
    "\n",
    "* Las cargas linealmente distribuidas producen una fuerza resultante con una magnitud igual al área bajo el diagrama de carga, y con una ubicación que pasa a través del centroide de esta área.\n",
    "\n",
    "\n",
    "* Un soporte produce una fuerza en una dirección particular sobre el elemento al que se encuentra unido si impide la traslación del elemento en esa dirección, y produce un momento sobre el elemento si impide su rotación. En la Tabla 0 se muestran los soportes más comunes para los problemas bidimensionales.\n",
    "\n",
    "$$\\text{Tabla 0.1: Reacciones en los soportes de elemntos más comunes}$$\n",
    "![](Tabla0_Fuerzas_Soporte.png)\n",
    "\n",
    "* Para evitar la traslación de un cuerpo con movimiento acelerado, así como su rotación, deben cumplirse las ecuaciones de equilibrio $\\sum{F} = 0$ y $\\sum{M} = 0$. \n",
    "\n",
    "\n",
    "* Al aplicar estas ecuaciones, es importante dibujar primero el diagrama de cuerpo libre, a fin de tomar en cuenta todos los términos incluidos en las ecuaciones.\n",
    "\n",
    "* El método de las secciones se utiliza para determinar las cargas internas resultantes que actúan sobre la superficie del cuerpo seccionado. En general, estas resultantes consisten en una fuerza normal, la fuerza cortante y los momentos de torsión y flexionante.\n",
    "\n",
    "***Procedimiento de análisis***\n",
    "\n",
    "Las cargas resultantes internas en un punto situado sobre la sección transversal de un cuerpo pueden obtenerse usando el método de las secciones. Para ello, es necesario realizar los siguientes pasos.\n",
    "\n",
    "**Reacciones en los soportes**\n",
    "\n",
    "* Primero decida qué segmento del cuerpo debe ser considerado. Si el segmento tiene un soporte o una conexión a otro cuerpo, entonces antes de seccionar el cuerpo será necesario determinar las reacciones que actúan sobre el segmento escogido. Para hacerlo, dibuje el diagrama de cuerpo libre de todo el cuerpo y luego aplique las ecuaciones de equilibrio necesarias para obtener esas reacciones.\n",
    "\n",
    "\n",
    "**Diagrama de cuerpo libre**\n",
    "\n",
    "* Mantenga todas las cargas externas distribuidas, los momentos, los pares de torsión y las fuerzas en sus ubicaciones exactas, antes de hacer una sección imaginaria a través del cuerpo en el punto donde deben determinarse las cargas internas resultantes.\n",
    "\n",
    "\n",
    "* Dibuje un diagrama de cuerpo libre de uno de los segmentos “cortados” e indique las resultantes desconocidas $N$, $V$, $M$ y $T$ en la sección. Éstas suelen colocarse en el punto que representa el centro geométrico o centroide del área seccionada. \n",
    "\n",
    "\n",
    "* Si el elemento está sometido a un sistema de fuerzas coplanares, sólo $N$, $V$ y $M$ actúan en el centroide.\n",
    "\n",
    "\n",
    "* Establezca los ejes coordenados $x$, $y$, $z$ con origen en el centroide y muestre las cargas internas resultantes que actúan a lo largo de los ejes.\n",
    "\n",
    "**Ecuaciones de equilibrio**\n",
    "\n",
    "* Los momentos deben sumarse en la sección, con respecto a cada uno de los ejes coordenados donde actúan las resultantes. Al hacer esto se eliminan las fuerzas desconocidas N y V, y es posible obtener una solución directa para $M$ (y $T$).\n",
    "\n",
    "\n",
    "* Si al resolver la resultante mediante las ecuaciones de equilibrio se obtiene un valor negativo, la dirección de la resultante se asume opuesta a la mostrada en el diagrama de cuerpo libre.\n",
    "\n",
    "\n",
    "#### Ejercicio repaso\n",
    "Considere la estructura mostrada en la Figura 1.1, diseñada para soportar una carga de $30 \\text{ kN}$. Consta de una viga $AB$ con una sección transversal rectangular de $30x50 \\text{ mm}$ y de una varilla $BC$ con una sección transversal circular de $20 \\text{ mm}$ de diámetro. La viga y la varilla están conectados por un perno en $B$ y los soportan pernos y ménsulas en $A$ y en $C$, respectivamente.\n",
    "\n",
    "![](Figura1_1.png)"
   ]
  },
  {
   "cell_type": "markdown",
   "metadata": {},
   "source": []
  },
  {
   "cell_type": "markdown",
   "metadata": {},
   "source": [
    "## Esfuerzo\n",
    "\n",
    "**Introducción capítulo 1** \n",
    "\n",
    "> La fuerza por unidad de área, o la intensidad de las fuerzas distribuidas a través de una sección dada, se llama esfuerzo sobre esa sección y se representa con la letra griega $\\sigma$ (sigma).\n",
    "\n",
    "El esfuerzo en un elemento con área transversal $A$ sometido a una carga axial $P$ (Figura 1) se obtiene, por lo tanto, al\n",
    "dividir la magnitud $P$ de la carga entre el área $A$:\n",
    "\n",
    "$$ \\sigma = \\frac{P}{A} \\text{             (1.1)}$$\n",
    "\n",
    "![](Figura1_Esfuerzo.png)\n",
    "$$\\text{Figura1 Representación del esfuerzo en un elemento.}$$\n",
    "\n",
    "> *Se empleará un signo positivo para indicar un esfuerzo de tensión (si la fuerza \"jala\" al elemento) y un signo negativo para indicar un esfuerzo compresivo (si la fuerza \"empuja\" al elemento).*\n",
    "\n",
    "![](Figura1_Tension_Compresion.png)\n",
    "$$\\text{Figura 1.1 Esfuerzos de tensión y comprensión aplicados a un elemento estructural.}$$\n",
    "\n",
    "### Esfuerzo Normal\n",
    "\n",
    "Es importante observar que la sección de corte transversal a la que se sometió la Figura 1 para determinar su fuerza interna y su correspondiente esfuerzo es perpendicular a su eje longitudinal. Por lo tanto, al aplicarse la fuerza interna perpendicular (normal) al plano de esta sección, el esfuerzo correspondiente se describe como <font size=\"3\">*Esfuerzo normal* </font>.\n",
    "\n",
    "> Por lo tanto, la ecuación (1.1) proporciona el esfuerzo normal en un elemento bajo carga axial.\n",
    "\n",
    "> Así también, resaltar que este valor representa un *valor promedio* del esfuerzo a través de la sección transversal, y no el valor de un esfuerzo en un punto específico de la sección transversal.\n",
    "\n",
    "Esto dado que el valor real del esfuerzo en un punto específico $Q$ dentro de la sección transversal varía en las extremidades del área transversal, así como esta variación es menor en una sección transversal lo sufientemente alejada de los puntos de aplicación de las cargas concentradas, como se muestra en la Figura 1.1.\n",
    "\n",
    "![](Figura1_Distribucion_Esfuerzos.png)\n",
    "$$\\text{Figura 1.1 Distribución de esfuerzos sobre una área transversal a lo largo de la estructura.}$$\n",
    "\n",
    "En la práctica, se supondrá que la distribución de los esfuerzos normales en un elemento cargado axialmente es uniforme, excepto en la vecindad inmediata de los puntos de aplicación de las cargas. El valor $\\sigma$ del esfuerzo es entonces igual a $\\sigma_{prom}$ y puede calcularse con la ecuación anterior.\n",
    "\n",
    "Sin embargo, hay que advertir que para estos casos, la resultante $P$ de las fuerzas internas debe aplicarse en el centroide $C$ de la sección, como se observa en la siguiente Figura 1.2.\n",
    "\n",
    "![](Figura1_Esfuerzo_Uniforme.png)![](Figura1_Esfuerzo_Uniformeb.png)\n",
    "$$\\text{Figura 1.2 Distribución uniforme ideal de esfuerzos.}$$\n",
    "\n",
    "> *una distribución uniforme del esfuerzo es posible sólo si la línea de acción  de las cargas concentradas $P$ y $P^{'}$ pasa a través del centroide $C$ de la sección considerada*\n",
    "\n",
    "### Esfuerzo cortante\n",
    "\n",
    "Un tipo muy diferente de esfuerzo se obtiene cuando se aplican fuerzas transversales P y a un elemento AB (figura 1.15). Al efectuar un corte en C entre los puntos de aplicación de las dos fuerzas (figura 1.16a), obtenemos el diagrama de la porción AC que se muestra en la figura 1.16b."
   ]
  },
  {
   "cell_type": "markdown",
   "metadata": {},
   "source": [
    "**Análisis**\n",
    "\n",
    "<font size = \"3\"> Considerando </font> nuevamente la estructura de la figura 1.1, suponga que la varilla $BC$ es de un acero que presenta un esfuerzo máximo permisible $\\sigma_{perm}=165 \\text{ MPa}$. ¿Puede soportar la varilla $BC$ con seguridad la carga a la que se le someterá?"
   ]
  },
  {
   "cell_type": "markdown",
   "metadata": {},
   "source": [
    "**Diseño**\n",
    "\n",
    "Véase otra vez la estructura de la figura 1.1; suponga que se empleará en ella aluminio, el cual\n",
    "tiene un esfuerzo permisible $\\sigma_{perm} = 100 \\text{ MPa}$. ¿Que diametro en la varilla asegurará dicha carga?"
   ]
  },
  {
   "cell_type": "markdown",
   "metadata": {},
   "source": [
    "**Ejercicio_1.1**\n",
    "En el soporte mostrado en la figura, la porción superior del eslabón $ABC$ es de $\\frac{3}{8}$ pulg de espesor y las porciones inferiores son cada uno de $\\frac{1}{4}$ pulg de grueso. Se utiliza resina epóxica para unir la porción superior con la inferior en $B$. El pasador en $A$ tiene un diámetro de $\\frac{3}{8}$ pulg mientras que en $C$ se emplea un pasador de $\\frac{1}{4}$ de pulgada.\n",
    "\n",
    "Determine\n",
    "* el esfuerzo cortante en el pasador A\n",
    "* el esfuerzo cortante en el pasador C\n",
    "* el máximo esfuerzo normal en el esalbón ABC\n",
    "* el esfuerzo cortante promedio en las superficies pegadas en B\n",
    "* el esfuerzo de aplastamiento en el eslabón C\n",
    "\n",
    "![Figura_ejemplo](FiguraE_1_1.png)"
   ]
  },
  {
   "cell_type": "markdown",
   "metadata": {},
   "source": [
    "*Solución E1.1*\n",
    "\n",
    "![](Solucion_E1_1a.png)\n",
    "![](Solucion_E1_1b.png)"
   ]
  },
  {
   "cell_type": "code",
   "execution_count": 1,
   "metadata": {},
   "outputs": [
    {
     "name": "stdout",
     "output_type": "stream",
     "text": [
      "Caso(a): el esfuerzo cortante en el pasador A = 6790.6 psi\n",
      "Caso(b): el esfuerzo cortante en el pasador C = 7639 psi\n",
      "Caso(c): el máximo esfuerzo normal en el esalbón ABC = 2286 psi\n",
      "Caso(d): el esfuerzo cortante promedio en las superficies pegadas en B = 171 psi\n",
      "Caso(e): el esfuerzo de aplastamiento en el eslabón C = 6000 psi\n",
      "Los resultados fueron a) 6790.6 psi, b) 7639 psi, c) 2286 psi, d) 171 psi, e) 6000 psi\n"
     ]
    }
   ],
   "source": [
    "import math\n",
    "\n",
    "#declaracion de variables\n",
    "F_ac = 750                             #Fuerza en la barra AC (lb), previo análisis equilibrio\n",
    "D = 0.375                             #Diámetro en la unión superior de la barra ABC\n",
    "\n",
    "\n",
    "#Cálculos      \n",
    "\n",
    "#Caso(a)\n",
    "A=((math.pi)*math.pow(D/2,2))   #Área en la unión superior de la barra ABC (in^2)\n",
    "tA=(F_ac/A)                      #Esfuerzo cortante en el pasador A(psi)   \n",
    "\n",
    "#Caso(b) \n",
    "Ab=(1/4.0)*((math.pi)*pow(0.25,2))    #Área en la unión inferior de la barra ABC (in^2)\n",
    "tC=(((1/2.0)*F_ac)/Ab)                 #Esfuerzo cortante en el pasador C (psi) \n",
    "\n",
    "#Caso(c)\n",
    "Atrans=(3/8.0)*(1.25-0.375)             #Área de sección transversal en A (in^2)\n",
    "sA=(F_ac/Atrans)                         #Máximo esfuerzo normal en el esalbón ABC (psi)\n",
    "\n",
    "#Caso(d)\n",
    "F1=750/2                              #Fuerza en cada lado (lb)\n",
    "Ad=(1.25*1.75)                        #Área en la unión B (in^2)\n",
    "tB=(F1/Ad)                            #Esfuerzo cortante promedio en las superficies pegadas en B \n",
    "\n",
    "#Caso(e)\n",
    "Ae=0.25*0.25                          #Área en el punto C(in^2)\n",
    "sB=(F1/Ae)                            #esfuerzo de aplastamiento en el eslabón C\n",
    "\n",
    "#Resultados\n",
    "print('Caso(a): el esfuerzo cortante en el pasador A = %.1f psi' % (tA))\n",
    "print('Caso(b): el esfuerzo cortante en el pasador C = %.f psi' % (tC))\n",
    "print('Caso(c): el máximo esfuerzo normal en el esalbón ABC = %.f psi' % (sA))\n",
    "print('Caso(d): el esfuerzo cortante promedio en las superficies pegadas en B = %.f psi' % (tB))\n",
    "print('Caso(e): el esfuerzo de aplastamiento en el eslabón C = %.f psi' % (sB))\n",
    "\n",
    "print('Los resultados fueron a) %.1f psi, b) %.f psi, c) %.f psi, d) %.f psi, e) %.f psi' % (tA, tC, sA, tB, sB))"
   ]
  },
  {
   "cell_type": "markdown",
   "metadata": {},
   "source": [
    "from IPython.display import Audio,Image, YouTubeVideo\n",
    "id='ER4WhBxM8DY '\n",
    "YouTubeVideo(id=id,width=600,height=300)"
   ]
  },
  {
   "cell_type": "code",
   "execution_count": 5,
   "metadata": {},
   "outputs": [
    {
     "data": {
      "text/html": [
       "\n",
       "        <iframe\n",
       "            width=\"600\"\n",
       "            height=\"300\"\n",
       "            src=\"https://www.youtube.com/embed/ER4WhBxM8DY \"\n",
       "            frameborder=\"0\"\n",
       "            allowfullscreen\n",
       "        ></iframe>\n",
       "        "
      ],
      "text/plain": [
       "<IPython.lib.display.YouTubeVideo at 0x1c151152240>"
      ]
     },
     "execution_count": 5,
     "metadata": {},
     "output_type": "execute_result"
    }
   ],
   "source": [
    "from IPython.display import Audio,Image, YouTubeVideo\n",
    "id='ER4WhBxM8DY '\n",
    "YouTubeVideo(id=id,width=600,height=300)"
   ]
  },
  {
   "cell_type": "code",
   "execution_count": null,
   "metadata": {},
   "outputs": [],
   "source": []
  }
 ],
 "metadata": {
  "kernelspec": {
   "display_name": "Python 3",
   "language": "python",
   "name": "python3"
  },
  "language_info": {
   "codemirror_mode": {
    "name": "ipython",
    "version": 3
   },
   "file_extension": ".py",
   "mimetype": "text/x-python",
   "name": "python",
   "nbconvert_exporter": "python",
   "pygments_lexer": "ipython3",
   "version": "3.7.3"
  }
 },
 "nbformat": 4,
 "nbformat_minor": 2
}
